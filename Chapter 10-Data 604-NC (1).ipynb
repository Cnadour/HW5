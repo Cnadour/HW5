{
 "cells": [
  {
   "cell_type": "code",
   "execution_count": 86,
   "id": "f63fb70a-d242-46ce-9d4e-58a65b7277a4",
   "metadata": {},
   "outputs": [],
   "source": [
    "# Configure Jupyter so figures appear in the notebook\n",
    "%matplotlib inline\n",
    "\n",
    "# Configure Jupyter to display the assigned value after an assignment\n",
    "%config InteractiveShell.ast_node_interactivity='last_expr_or_assign'\n",
    "\n",
    "# import functions from the modsim.py module\n",
    "from modsim import *\n",
    "\n",
    "from pandas import read_html"
   ]
  },
  {
   "cell_type": "code",
   "execution_count": 87,
   "id": "a9e81fec-d84b-4d1d-9c53-425cc581fa1d",
   "metadata": {},
   "outputs": [],
   "source": [
    "def plot_results(census, un, timeseries, title):\n",
    "    \"\"\"Plot the estimates and the model.\n",
    "    \n",
    "    census: TimeSeries of population estimates\n",
    "    un: TimeSeries of population estimates\n",
    "    timeseries: TimeSeries of simulation results\n",
    "    title: string\n",
    "    \"\"\"\n",
    "    plot(census, ':', label='US Census')\n",
    "    plot(un, '--', label='UN DESA')\n",
    "    plot(timeseries, color='gray', label='model')\n",
    "    \n",
    "    decorate(xlabel='Year', \n",
    "             ylabel='World population (billion)',\n",
    "             title=title)"
   ]
  },
  {
   "cell_type": "code",
   "execution_count": 88,
   "id": "8e1b0614-6e83-4b53-97c0-d1757a1437a4",
   "metadata": {},
   "outputs": [],
   "source": [
    "def run_simulation(system, update_func):\n",
    "    \"\"\"Simulate the system using any update function.\n",
    "    \n",
    "    system: System object\n",
    "    update_func: function that computes the population next year\n",
    "    \n",
    "    returns: TimeSeries\n",
    "    \"\"\"\n",
    "    results = TimeSeries()\n",
    "    results[system.t_0] = system.p_0\n",
    "    \n",
    "    for t in linrange(system.t_0, system.t_end):\n",
    "        results[t+1] = update_func(results[t], t, system)\n",
    "        \n",
    "    return results"
   ]
  },
  {
   "cell_type": "code",
   "execution_count": 89,
   "id": "899c787a-8c45-4d7f-881d-a350fb40c73b",
   "metadata": {},
   "outputs": [],
   "source": [
    "def read_table2(filename = 'data/World_population_estimates.html'):\n",
    "    tables = pd.read_html(filename, header=0, index_col=0, decimal='M')\n",
    "    table2 = tables[2]\n",
    "    table2.columns = ['census', 'prb', 'un', 'maddison', \n",
    "                  'hyde', 'tanton', 'biraben', 'mj', \n",
    "                  'thomlinson', 'durand', 'clark']\n",
    "    return table2"
   ]
  },
  {
   "cell_type": "code",
   "execution_count": 90,
   "id": "9e607a8d-6240-47a0-83d0-ea8f595acba9",
   "metadata": {},
   "outputs": [
    {
     "data": {
      "text/plain": [
       "(67, 12)"
      ]
     },
     "execution_count": 90,
     "metadata": {},
     "output_type": "execute_result"
    }
   ],
   "source": [
    "table2.shape"
   ]
  },
  {
   "cell_type": "code",
   "execution_count": 91,
   "id": "75baec2b-c5a5-4c1d-98a4-2e323937530c",
   "metadata": {},
   "outputs": [
    {
     "data": {
      "text/plain": [
       "(67,)"
      ]
     },
     "execution_count": 91,
     "metadata": {},
     "output_type": "execute_result"
    }
   ],
   "source": [
    "census = table2.census / 1e9\n",
    "census.shape"
   ]
  },
  {
   "cell_type": "code",
   "execution_count": 92,
   "id": "655d5441-8a8f-4433-8d77-b238d7591210",
   "metadata": {},
   "outputs": [
    {
     "data": {
      "text/plain": [
       "(67,)"
      ]
     },
     "execution_count": 92,
     "metadata": {},
     "output_type": "execute_result"
    }
   ],
   "source": [
    "un = table2.un / 1e9\n",
    "un.shape"
   ]
  },
  {
   "cell_type": "code",
   "execution_count": 93,
   "id": "8ffec87d-9d3e-4c65-b054-8d981aff919f",
   "metadata": {},
   "outputs": [
    {
     "data": {
      "text/plain": [
       "Index([1950, 1951, 1952, 1953, 1954, 1955, 1956, 1957, 1958, 1959, 1960, 1961,\n",
       "       1962, 1963, 1964, 1965, 1966, 1967, 1968, 1969, 1970, 1971, 1972, 1973,\n",
       "       1974, 1975, 1976, 1977, 1978, 1979, 1980, 1981, 1982, 1983, 1984, 1985,\n",
       "       1986, 1987, 1988, 1989, 1990, 1991, 1992, 1993, 1994, 1995, 1996, 1997,\n",
       "       1998, 1999, 2000, 2001, 2002, 2003, 2004, 2005, 2006, 2007, 2008, 2009,\n",
       "       2010, 2011, 2012, 2013, 2014, 2015, 2016],\n",
       "      dtype='int64', name='Year')"
      ]
     },
     "execution_count": 93,
     "metadata": {},
     "output_type": "execute_result"
    }
   ],
   "source": [
    "table2.index"
   ]
  },
  {
   "cell_type": "code",
   "execution_count": 94,
   "id": "471ad884-026b-4adc-b69e-05e17b1e4f3e",
   "metadata": {},
   "outputs": [
    {
     "data": {
      "text/plain": [
       "Index(['Year', 'census', 'prb', 'un', 'maddison', 'hyde', 'tanton', 'biraben',\n",
       "       'mj', 'thomlinson', 'durand', 'clark'],\n",
       "      dtype='object')"
      ]
     },
     "execution_count": 94,
     "metadata": {},
     "output_type": "execute_result"
    }
   ],
   "source": [
    "table2.columns"
   ]
  },
  {
   "cell_type": "code",
   "execution_count": 95,
   "id": "7984e478-f056-4f71-8c24-10bc02b1cc17",
   "metadata": {},
   "outputs": [
    {
     "data": {
      "text/plain": [
       "array([[1950, 2557628654, 2516000000.0, 2525149000.0, 2544000000.0,\n",
       "        2527960000.0, 2400000000.0, 2527000000.0, 2500000000.0,\n",
       "        2400000000.0, nan, 2486000000.0],\n",
       "       [1951, 2594939877, nan, 2572850917.0, 2571663000.0, nan, nan, nan,\n",
       "        nan, nan, nan, nan],\n",
       "       [1952, 2636772306, nan, 2619292068.0, 2617949000.0, nan, nan, nan,\n",
       "        nan, nan, nan, nan],\n",
       "       [1953, 2682053389, nan, 2665865392.0, 2665959000.0, nan, nan, nan,\n",
       "        nan, nan, nan, nan],\n",
       "       [1954, 2730228104, nan, 2713172027.0, 2716927000.0, nan, nan, nan,\n",
       "        nan, nan, nan, nan],\n",
       "       [1955, 2782098943, nan, 2761650981.0, 2769074000.0, nan, nan, nan,\n",
       "        nan, nan, nan, nan],\n",
       "       [1956, 2835299673, nan, 2811572031.0, 2822502000.0, nan, nan, nan,\n",
       "        nan, nan, nan, nan],\n",
       "       [1957, 2891349717, nan, 2863042795.0, 2879934000.0, nan, nan, nan,\n",
       "        nan, nan, nan, nan],\n",
       "       [1958, 2948137248, nan, 2916030167.0, 2939254000.0, nan, nan, nan,\n",
       "        nan, nan, nan, nan],\n",
       "       [1959, 3000716593, nan, 2970395814.0, 2995909000.0, nan, nan, nan,\n",
       "        nan, nan, nan, nan],\n",
       "       [1960, 3043001508, nan, 3026002942.0, 3041507000.0, 3042000000.0,\n",
       "        nan, nan, nan, nan, nan, nan],\n",
       "       [1961, 3083966929, nan, 3082830266.0, 3082161000.0, nan, nan, nan,\n",
       "        nan, nan, nan, nan],\n",
       "       [1962, 3140093217, nan, 3141071531.0, 3135787000.0, nan, nan, nan,\n",
       "        nan, nan, nan, 3036000000.0],\n",
       "       [1963, 3209827882, nan, 3201178277.0, 3201354000.0, nan, nan, nan,\n",
       "        nan, nan, nan, nan],\n",
       "       [1964, 3281201306, nan, 3263738832.0, 3266477000.0, nan, nan, nan,\n",
       "        nan, nan, nan, nan],\n",
       "       [1965, 3350425793, nan, 3329122479.0, 3333138000.0, nan, nan, nan,\n",
       "        nan, nan, nan, nan],\n",
       "       [1966, 3420677923, nan, 3397475247.0, 3402224000.0, nan, nan, nan,\n",
       "        nan, nan, nan, 3288000000.0],\n",
       "       [1967, 3490333715, nan, 3468521724.0, 3471464000.0, nan, nan, nan,\n",
       "        nan, nan, nan, nan],\n",
       "       [1968, 3562313822, nan, 3541674891.0, 3543086000.0, nan, nan, nan,\n",
       "        nan, nan, nan, nan],\n",
       "       [1969, 3637159050, nan, 3616108749.0, 3615743000.0, nan, nan, nan,\n",
       "        nan, nan, nan, nan],\n",
       "       [1970, 3712697742, nan, 3691172616.0, 3691157000.0, 3710000000.0,\n",
       "        nan, 3637000000.0, nan, 3600000000.0,\n",
       "        '3,600,000,000– 3,700,000,000', 3632000000.0],\n",
       "       [1971, 3790326948, nan, 3766754345.0, 3769818000.0, nan, nan, nan,\n",
       "        nan, nan, nan, nan],\n",
       "       [1972, 3866568653, nan, 3842873611.0, 3846499000.0, nan, nan, nan,\n",
       "        nan, nan, nan, nan],\n",
       "       [1973, 3942096442, nan, 3919182332.0, 3922793000.0, 3923000000.0,\n",
       "        nan, nan, nan, nan, nan, 3860000000.0],\n",
       "       [1974, 4016608813, nan, 3995304922.0, 3997677000.0, nan, nan, nan,\n",
       "        nan, nan, nan, nan],\n",
       "       [1975, 4089083233, nan, 4071020434.0, 4070671000.0, nan, nan, nan,\n",
       "        3900000000.0, 4000000000.0, nan, nan],\n",
       "       [1976, 4160185010, nan, 4146135850.0, 4141445000.0, nan, nan, nan,\n",
       "        nan, nan, nan, nan],\n",
       "       [1977, 4232084578, nan, 4220816737.0, 4213539000.0, nan, nan, nan,\n",
       "        nan, nan, nan, nan],\n",
       "       [1978, 4304105753, nan, 4295664825.0, 4286317000.0, nan, nan, nan,\n",
       "        nan, nan, nan, nan],\n",
       "       [1979, 4379013942, nan, 4371527871.0, 4363144000.0, nan, nan, nan,\n",
       "        nan, nan, nan, nan],\n",
       "       [1980, 4451362735, nan, 4449048798.0, 4439529000.0, 4461000000.0,\n",
       "        nan, nan, nan, nan, nan, nan],\n",
       "       [1981, 4534410125, nan, 4528234634.0, 4514838000.0, nan, nan, nan,\n",
       "        nan, nan, nan, nan],\n",
       "       [1982, 4614566561, nan, 4608962418.0, 4587307000.0, nan, nan, nan,\n",
       "        nan, nan, nan, nan],\n",
       "       [1983, 4695736743, nan, 4691559840.0, 4676388000.0, nan, nan, nan,\n",
       "        nan, nan, nan, nan],\n",
       "       [1984, 4774569391, nan, 4776392828.0, 4756521000.0, nan, nan, nan,\n",
       "        nan, nan, nan, nan],\n",
       "       [1985, 4856462699, nan, 4863601517.0, 4837719000.0, nan,\n",
       "        5000000000.0, nan, nan, nan, nan, nan],\n",
       "       [1986, 4940571232, nan, 4953376710.0, 4920968000.0, nan, nan, nan,\n",
       "        nan, nan, nan, nan],\n",
       "       [1987, 5027200492, nan, 5045315871.0, 5006672000.0, nan, nan, nan,\n",
       "        nan, nan, nan, nan],\n",
       "       [1988, 5114557167, nan, 5138214688.0, 5093306000.0, nan, nan, nan,\n",
       "        nan, nan, nan, nan],\n",
       "       [1989, 5201440110, nan, 5230000000.0, 5180540000.0, nan, nan, nan,\n",
       "        nan, nan, nan, nan],\n",
       "       [1990, 5288955934, nan, 5320816667.0, 5269029000.0, 5308000000.0,\n",
       "        nan, nan, nan, nan, nan, nan],\n",
       "       [1991, 5371585922, nan, 5408908724.0, 5351922000.0, nan, nan, nan,\n",
       "        nan, nan, nan, nan],\n",
       "       [1992, 5456136278, nan, 5494899570.0, 5435722000.0, nan, nan, nan,\n",
       "        nan, nan, nan, nan],\n",
       "       [1993, 5538268316, nan, 5578865109.0, 5518127000.0, nan, nan, nan,\n",
       "        nan, nan, nan, nan],\n",
       "       [1994, 5618682132, nan, 5661086346.0, 5599396000.0, nan, nan, nan,\n",
       "        nan, nan, nan, nan],\n",
       "       [1995, 5699202985, 5760000000.0, 5741822412.0, 5681575000.0, nan,\n",
       "        nan, nan, nan, nan, nan, nan],\n",
       "       [1996, 5779440593, nan, 5821016750.0, 5762212000.0, nan, nan, nan,\n",
       "        nan, nan, nan, nan],\n",
       "       [1997, 5857972543, 5840000000.0, 5898688337.0, 5842122000.0, nan,\n",
       "        nan, nan, nan, nan, nan, nan],\n",
       "       [1998, 5935213248, nan, 5975303657.0, 5921366000.0, nan, nan, nan,\n",
       "        nan, nan, nan, nan],\n",
       "       [1999, 6012074922, nan, 6051478010.0, 5999622000.0, nan, nan, nan,\n",
       "        nan, nan, nan, nan],\n",
       "       [2000, 6088571383, 6067000000.0, 6127700428.0, 6076558000.0,\n",
       "        6145000000.0, nan, nan, 5750000000.0, nan, nan, nan],\n",
       "       [2001, 6165219247, 6137000000.0, 6204147026.0, 6154791000.0, nan,\n",
       "        nan, nan, nan, nan, nan, nan],\n",
       "       [2002, 6242016348, 6215000000.0, 6280853817.0, 6231704000.0, nan,\n",
       "        nan, nan, nan, nan, nan, nan],\n",
       "       [2003, 6318590956, 6314000000.0, 6357991749.0, 6308364000.0, nan,\n",
       "        nan, nan, nan, nan, nan, nan],\n",
       "       [2004, 6395699509, 6396000000.0, 6435705595.0, 6374056000.0, nan,\n",
       "        nan, nan, nan, nan, nan, nan],\n",
       "       [2005, 6473044732, 6477000000.0, 6514094605.0, 6462987000.0, nan,\n",
       "        nan, nan, nan, nan, nan, nan],\n",
       "       [2006, 6551263534, 6555000000.0, 6593227977.0, 6540214000.0, nan,\n",
       "        nan, nan, nan, nan, nan, nan],\n",
       "       [2007, 6629913759, 6625000000.0, 6673105937.0, 6616689000.0, nan,\n",
       "        nan, nan, nan, nan, nan, nan],\n",
       "       [2008, 6709049780, 6705000000.0, 6753649228.0, 6694832000.0, nan,\n",
       "        nan, nan, nan, nan, nan, nan],\n",
       "       [2009, 6788214394, 6809972000.0, 6834721933.0, 6764086000.0, nan,\n",
       "        nan, nan, nan, nan, nan, nan],\n",
       "       [2010, 6858584755, 6892319000.0, 6916183482.0, nan, nan, nan, nan,\n",
       "        nan, nan, nan, nan],\n",
       "       [2011, 6935999491, 6986951000.0, 6997998760.0, nan, nan, nan, nan,\n",
       "        nan, nan, nan, nan],\n",
       "       [2012, 7013871313, 7057075000.0, 7080072417.0, nan, nan, nan, nan,\n",
       "        nan, nan, nan, nan],\n",
       "       [2013, 7092128094, 7136796000.0, 7162119434.0, nan, nan, nan, nan,\n",
       "        nan, nan, nan, nan],\n",
       "       [2014, 7169968185, 7238184000.0, 7243784000.0, nan, nan, nan, nan,\n",
       "        nan, nan, nan, nan],\n",
       "       [2015, 7247892788, 7336435000.0, 7349472000.0, nan, nan, nan, nan,\n",
       "        nan, nan, nan, nan],\n",
       "       [2016, 7325996709, 7418151841.0, nan, nan, nan, nan, nan, nan,\n",
       "        nan, nan, nan]], dtype=object)"
      ]
     },
     "execution_count": 95,
     "metadata": {},
     "output_type": "execute_result"
    }
   ],
   "source": [
    "table2.values"
   ]
  },
  {
   "cell_type": "code",
   "execution_count": 96,
   "id": "03707816-5764-4329-ac34-6335170c040b",
   "metadata": {},
   "outputs": [
    {
     "data": {
      "text/plain": [
       "'census'"
      ]
     },
     "execution_count": 96,
     "metadata": {},
     "output_type": "execute_result"
    }
   ],
   "source": [
    "census.name"
   ]
  },
  {
   "cell_type": "code",
   "execution_count": 97,
   "id": "11685bc3-16b6-4029-a71d-02108eb88594",
   "metadata": {},
   "outputs": [
    {
     "data": {
      "text/plain": [
       "array([2.55762865, 2.59493988, 2.63677231, 2.68205339, 2.7302281 ,\n",
       "       2.78209894, 2.83529967, 2.89134972, 2.94813725, 3.00071659,\n",
       "       3.04300151, 3.08396693, 3.14009322, 3.20982788, 3.28120131,\n",
       "       3.35042579, 3.42067792, 3.49033371, 3.56231382, 3.63715905,\n",
       "       3.71269774, 3.79032695, 3.86656865, 3.94209644, 4.01660881,\n",
       "       4.08908323, 4.16018501, 4.23208458, 4.30410575, 4.37901394,\n",
       "       4.45136274, 4.53441012, 4.61456656, 4.69573674, 4.77456939,\n",
       "       4.8564627 , 4.94057123, 5.02720049, 5.11455717, 5.20144011,\n",
       "       5.28895593, 5.37158592, 5.45613628, 5.53826832, 5.61868213,\n",
       "       5.69920299, 5.77944059, 5.85797254, 5.93521325, 6.01207492,\n",
       "       6.08857138, 6.16521925, 6.24201635, 6.31859096, 6.39569951,\n",
       "       6.47304473, 6.55126353, 6.62991376, 6.70904978, 6.78821439,\n",
       "       6.85858475, 6.93599949, 7.01387131, 7.09212809, 7.16996819,\n",
       "       7.24789279, 7.32599671])"
      ]
     },
     "execution_count": 97,
     "metadata": {},
     "output_type": "execute_result"
    }
   ],
   "source": [
    "census.values"
   ]
  },
  {
   "cell_type": "code",
   "execution_count": 98,
   "id": "999d6fa9-37ab-494f-ae06-d80b8c751b34",
   "metadata": {},
   "outputs": [
    {
     "data": {
      "text/plain": [
       "Index([1950, 1951, 1952, 1953, 1954, 1955, 1956, 1957, 1958, 1959, 1960, 1961,\n",
       "       1962, 1963, 1964, 1965, 1966, 1967, 1968, 1969, 1970, 1971, 1972, 1973,\n",
       "       1974, 1975, 1976, 1977, 1978, 1979, 1980, 1981, 1982, 1983, 1984, 1985,\n",
       "       1986, 1987, 1988, 1989, 1990, 1991, 1992, 1993, 1994, 1995, 1996, 1997,\n",
       "       1998, 1999, 2000, 2001, 2002, 2003, 2004, 2005, 2006, 2007, 2008, 2009,\n",
       "       2010, 2011, 2012, 2013, 2014, 2015, 2016],\n",
       "      dtype='int64', name='Year')"
      ]
     },
     "execution_count": 98,
     "metadata": {},
     "output_type": "execute_result"
    }
   ],
   "source": [
    "census.index"
   ]
  },
  {
   "cell_type": "code",
   "execution_count": 99,
   "id": "0de7b4dd-4291-45d0-8b07-fe05f951f187",
   "metadata": {},
   "outputs": [
    {
     "data": {
      "text/plain": [
       "pandas.core.frame.DataFrame"
      ]
     },
     "execution_count": 99,
     "metadata": {},
     "output_type": "execute_result"
    }
   ],
   "source": [
    "type(table2)"
   ]
  },
  {
   "cell_type": "code",
   "execution_count": 100,
   "id": "f0d1577c-4e88-4b10-9f49-70e0b689fef1",
   "metadata": {},
   "outputs": [
    {
     "data": {
      "text/plain": [
       "pandas.core.indexes.base.Index"
      ]
     },
     "execution_count": 100,
     "metadata": {},
     "output_type": "execute_result"
    }
   ],
   "source": [
    "type(table2.index)"
   ]
  },
  {
   "cell_type": "code",
   "execution_count": 101,
   "id": "4a40ad60-697c-402a-9707-269dd20708ee",
   "metadata": {},
   "outputs": [
    {
     "data": {
      "text/plain": [
       "pandas.core.indexes.base.Index"
      ]
     },
     "execution_count": 101,
     "metadata": {},
     "output_type": "execute_result"
    }
   ],
   "source": [
    "type(table2.columns)"
   ]
  },
  {
   "cell_type": "code",
   "execution_count": 102,
   "id": "d2c024ec-79fb-4c16-9afc-f29aeaa12169",
   "metadata": {},
   "outputs": [
    {
     "data": {
      "text/plain": [
       "numpy.ndarray"
      ]
     },
     "execution_count": 102,
     "metadata": {},
     "output_type": "execute_result"
    }
   ],
   "source": [
    "type(table2.values)"
   ]
  },
  {
   "cell_type": "code",
   "execution_count": 103,
   "id": "7250b54b-dcfe-4fa1-ab50-b80a565d2fa6",
   "metadata": {},
   "outputs": [
    {
     "data": {
      "text/plain": [
       "pandas.core.series.Series"
      ]
     },
     "execution_count": 103,
     "metadata": {},
     "output_type": "execute_result"
    }
   ],
   "source": [
    "type(census)"
   ]
  },
  {
   "cell_type": "code",
   "execution_count": 104,
   "id": "caa4dce1-966f-4411-b001-d53800ad274a",
   "metadata": {},
   "outputs": [
    {
     "data": {
      "text/plain": [
       "pandas.core.indexes.base.Index"
      ]
     },
     "execution_count": 104,
     "metadata": {},
     "output_type": "execute_result"
    }
   ],
   "source": [
    "type(census.index)"
   ]
  },
  {
   "cell_type": "code",
   "execution_count": 105,
   "id": "c1ce446c-6fd4-4915-9ff2-91f9045eeb33",
   "metadata": {},
   "outputs": [
    {
     "data": {
      "text/plain": [
       "numpy.ndarray"
      ]
     },
     "execution_count": 105,
     "metadata": {},
     "output_type": "execute_result"
    }
   ],
   "source": [
    "type(census.values)"
   ]
  },
  {
   "cell_type": "code",
   "execution_count": 106,
   "id": "9e706579-4bf9-4a62-9e6f-8e215b69c246",
   "metadata": {},
   "outputs": [
    {
     "data": {
      "text/plain": [
       "(67, 12)"
      ]
     },
     "execution_count": 106,
     "metadata": {},
     "output_type": "execute_result"
    }
   ],
   "source": [
    "table2.shape"
   ]
  },
  {
   "cell_type": "code",
   "execution_count": 111,
   "id": "451b79ab-2158-4e52-8bc6-38f746b98761",
   "metadata": {},
   "outputs": [],
   "source": [
    "# optional Exercise: \n",
    "\n",
    "from os.path import basename, exists\n",
    "\n",
    "def download(url):\n",
    "    filename = basename(url)\n",
    "    if not exists(filename):\n",
    "        from urllib.request import urlretrieve\n",
    "        local, _ = urlretrieve(url, filename)\n",
    "        print('Downloaded ' + local)\n",
    "    \n",
    "download('https://raw.githubusercontent.com/AllenDowney/' +\n",
    "         'ModSimPy/master/modsim.py')\n",
    "from modsim import *"
   ]
  },
  {
   "cell_type": "code",
   "execution_count": 112,
   "id": "ceb21b0f-836f-4032-99ec-6c86f4e371a9",
   "metadata": {},
   "outputs": [
    {
     "name": "stdout",
     "output_type": "stream",
     "text": [
      "Downloaded World_population_estimates.html\n"
     ]
    }
   ],
   "source": [
    "download('https://raw.githubusercontent.com/AllenDowney/' +\n",
    "         'ModSimPy/master/data/World_population_estimates.html')"
   ]
  },
  {
   "cell_type": "code",
   "execution_count": 113,
   "id": "4bb9f0bb-3924-49bf-be31-408875d816b4",
   "metadata": {},
   "outputs": [
    {
     "data": {
      "text/plain": [
       "6"
      ]
     },
     "execution_count": 113,
     "metadata": {},
     "output_type": "execute_result"
    }
   ],
   "source": [
    "from pandas import read_html\n",
    "\n",
    "filename = 'World_population_estimates.html'\n",
    "tables = read_html(filename, header=0, index_col=0, decimal='M')\n",
    "len(tables)"
   ]
  },
  {
   "cell_type": "code",
   "execution_count": 114,
   "id": "67686c6c-98cb-4bc9-bcff-10b01be3d9e3",
   "metadata": {},
   "outputs": [
    {
     "data": {
      "text/html": [
       "<div>\n",
       "<style scoped>\n",
       "    .dataframe tbody tr th:only-of-type {\n",
       "        vertical-align: middle;\n",
       "    }\n",
       "\n",
       "    .dataframe tbody tr th {\n",
       "        vertical-align: top;\n",
       "    }\n",
       "\n",
       "    .dataframe thead th {\n",
       "        text-align: right;\n",
       "    }\n",
       "</style>\n",
       "<table border=\"1\" class=\"dataframe\">\n",
       "  <thead>\n",
       "    <tr style=\"text-align: right;\">\n",
       "      <th></th>\n",
       "      <th>Population Reference Bureau (1973–2016)[15]</th>\n",
       "      <th>United Nations Department of Economic and Social Affairs (2015)[16]</th>\n",
       "      <th>Maddison (2008)[17]</th>\n",
       "      <th>HYDE (2010)[citation needed]</th>\n",
       "      <th>Tanton (1994)[18]</th>\n",
       "      <th>Biraben (1980)[19]</th>\n",
       "      <th>McEvedy &amp; Jones (1978)[20]</th>\n",
       "      <th>Thomlinson (1975)[21]</th>\n",
       "      <th>Durand (1974)[22]</th>\n",
       "      <th>Clark (1967)[23]</th>\n",
       "    </tr>\n",
       "    <tr>\n",
       "      <th>Year</th>\n",
       "      <th></th>\n",
       "      <th></th>\n",
       "      <th></th>\n",
       "      <th></th>\n",
       "      <th></th>\n",
       "      <th></th>\n",
       "      <th></th>\n",
       "      <th></th>\n",
       "      <th></th>\n",
       "      <th></th>\n",
       "    </tr>\n",
       "  </thead>\n",
       "  <tbody>\n",
       "    <tr>\n",
       "      <th>-10000</th>\n",
       "      <td>NaN</td>\n",
       "      <td>NaN</td>\n",
       "      <td>NaN</td>\n",
       "      <td>2M[24]</td>\n",
       "      <td>NaN</td>\n",
       "      <td>NaN</td>\n",
       "      <td>4.0</td>\n",
       "      <td>1–10M</td>\n",
       "      <td>NaN</td>\n",
       "      <td>NaN</td>\n",
       "    </tr>\n",
       "    <tr>\n",
       "      <th>-9000</th>\n",
       "      <td>NaN</td>\n",
       "      <td>NaN</td>\n",
       "      <td>NaN</td>\n",
       "      <td>4.</td>\n",
       "      <td>NaN</td>\n",
       "      <td>NaN</td>\n",
       "      <td>NaN</td>\n",
       "      <td>NaN</td>\n",
       "      <td>NaN</td>\n",
       "      <td>NaN</td>\n",
       "    </tr>\n",
       "    <tr>\n",
       "      <th>-8000</th>\n",
       "      <td>5.</td>\n",
       "      <td>NaN</td>\n",
       "      <td>NaN</td>\n",
       "      <td>5.</td>\n",
       "      <td>NaN</td>\n",
       "      <td>NaN</td>\n",
       "      <td>NaN</td>\n",
       "      <td>NaN</td>\n",
       "      <td>5–10M</td>\n",
       "      <td>NaN</td>\n",
       "    </tr>\n",
       "    <tr>\n",
       "      <th>-7000</th>\n",
       "      <td>NaN</td>\n",
       "      <td>NaN</td>\n",
       "      <td>NaN</td>\n",
       "      <td>8.</td>\n",
       "      <td>NaN</td>\n",
       "      <td>NaN</td>\n",
       "      <td>NaN</td>\n",
       "      <td>NaN</td>\n",
       "      <td>NaN</td>\n",
       "      <td>NaN</td>\n",
       "    </tr>\n",
       "    <tr>\n",
       "      <th>-6000</th>\n",
       "      <td>NaN</td>\n",
       "      <td>NaN</td>\n",
       "      <td>NaN</td>\n",
       "      <td>11.</td>\n",
       "      <td>NaN</td>\n",
       "      <td>NaN</td>\n",
       "      <td>NaN</td>\n",
       "      <td>NaN</td>\n",
       "      <td>NaN</td>\n",
       "      <td>NaN</td>\n",
       "    </tr>\n",
       "  </tbody>\n",
       "</table>\n",
       "</div>"
      ],
      "text/plain": [
       "       Population Reference Bureau (1973–2016)[15]  \\\n",
       "Year                                                 \n",
       "-10000                                         NaN   \n",
       "-9000                                          NaN   \n",
       "-8000                                           5.   \n",
       "-7000                                          NaN   \n",
       "-6000                                          NaN   \n",
       "\n",
       "        United Nations Department of Economic and Social Affairs (2015)[16]  \\\n",
       "Year                                                                          \n",
       "-10000                                                NaN                     \n",
       "-9000                                                 NaN                     \n",
       "-8000                                                 NaN                     \n",
       "-7000                                                 NaN                     \n",
       "-6000                                                 NaN                     \n",
       "\n",
       "       Maddison (2008)[17] HYDE (2010)[citation needed]  Tanton (1994)[18]  \\\n",
       "Year                                                                         \n",
       "-10000                 NaN                       2M[24]                NaN   \n",
       "-9000                  NaN                           4.                NaN   \n",
       "-8000                  NaN                           5.                NaN   \n",
       "-7000                  NaN                           8.                NaN   \n",
       "-6000                  NaN                          11.                NaN   \n",
       "\n",
       "        Biraben (1980)[19]  McEvedy & Jones (1978)[20] Thomlinson (1975)[21]  \\\n",
       "Year                                                                           \n",
       "-10000                 NaN                         4.0                 1–10M   \n",
       "-9000                  NaN                         NaN                   NaN   \n",
       "-8000                  NaN                         NaN                   NaN   \n",
       "-7000                  NaN                         NaN                   NaN   \n",
       "-6000                  NaN                         NaN                   NaN   \n",
       "\n",
       "       Durand (1974)[22] Clark (1967)[23]  \n",
       "Year                                       \n",
       "-10000               NaN              NaN  \n",
       "-9000                NaN              NaN  \n",
       "-8000              5–10M              NaN  \n",
       "-7000                NaN              NaN  \n",
       "-6000                NaN              NaN  "
      ]
     },
     "execution_count": 114,
     "metadata": {},
     "output_type": "execute_result"
    }
   ],
   "source": [
    "table1 = tables[1]\n",
    "table1.head()"
   ]
  },
  {
   "cell_type": "code",
   "execution_count": 145,
   "id": "bd41ab94-f3bd-4b2b-ad78-dbfac7f28928",
   "metadata": {},
   "outputs": [],
   "source": [
    "table1.columns = ['PRB', 'UN', 'Maddison', 'HYDE', 'Tanton', \n",
    "                  'Biraben', 'McEvedy & Jones', 'Thomlinson', 'Durand', 'Clark']"
   ]
  },
  {
   "cell_type": "code",
   "execution_count": 146,
   "id": "f6c7bea2-8ffe-49e0-adb4-88f58bd1b266",
   "metadata": {},
   "outputs": [],
   "source": [
    "for col in table1.columns:\n",
    "    table1[col] = pd.to_numeric(table1[col], errors='coerce')"
   ]
  },
  {
   "cell_type": "code",
   "execution_count": 147,
   "id": "be6b6e66-7a6c-454c-bbdd-da0ad8534837",
   "metadata": {},
   "outputs": [
    {
     "data": {
      "image/png": "[encoded data removed]",
      "text/plain": [
       "<Figure size 450x300 with 1 Axes>"
      ]
     },
     "metadata": {},
     "output_type": "display_data"
    }
   ],
   "source": [
    "table1.plot()\n",
    "decorate(xlim=[-10000, 2000], xlabel='Year', \n",
    "         ylabel='World population (millions)',\n",
    "         title='Prehistoric population estimates')\n",
    "plt.legend(fontsize='small');"
   ]
  },
  {
   "cell_type": "code",
   "execution_count": 148,
   "id": "f47e5ef3-23fd-4a31-95ff-ff7dfe234b0a",
   "metadata": {},
   "outputs": [
    {
     "data": {
      "image/png": "[encoded data removed]",
      "text/plain": [
       "<Figure size 450x300 with 1 Axes>"
      ]
     },
     "metadata": {},
     "output_type": "display_data"
    }
   ],
   "source": [
    "table1.plot()\n",
    "decorate(xlim=[0, 2000], xlabel='Year', \n",
    "         ylabel='World population (millions)',\n",
    "         title='CE population estimates')"
   ]
  },
  {
   "cell_type": "code",
   "execution_count": 149,
   "id": "98e6bfa0-f98d-4df5-9202-c03a96838158",
   "metadata": {},
   "outputs": [],
   "source": [
    "tables = read_html(filename, header=0, index_col=0, decimal='M')\n",
    "table2 = tables[2]\n",
    "table2.columns = ['census', 'prb', 'un', 'maddison', \n",
    "                  'hyde', 'tanton', 'biraben', 'mj', \n",
    "                  'thomlinson', 'durand', 'clark']"
   ]
  },
  {
   "cell_type": "code",
   "execution_count": 150,
   "id": "43cd5648-6468-4547-9876-995fd1f641e7",
   "metadata": {},
   "outputs": [
    {
     "data": {
      "text/plain": [
       "Year\n",
       "1950    2.557629\n",
       "1951    2.594940\n",
       "1952    2.636772\n",
       "1953    2.682053\n",
       "1954    2.730228\n",
       "          ...   \n",
       "2012    7.013871\n",
       "2013    7.092128\n",
       "2014    7.169968\n",
       "2015    7.247893\n",
       "2016    7.325997\n",
       "Name: census, Length: 67, dtype: float64"
      ]
     },
     "execution_count": 150,
     "metadata": {},
     "output_type": "execute_result"
    }
   ],
   "source": [
    "un = table2.un / 1e9\n",
    "census = table2.census / 1e9"
   ]
  },
  {
   "cell_type": "code",
   "execution_count": 182,
   "id": "9ea4f03b-f3e0-450b-8956-51c7bd835fef",
   "metadata": {},
   "outputs": [
    {
     "data": {
      "text/plain": [
       "Year\n",
       "1       0.000\n",
       "100     0.195\n",
       "200     0.202\n",
       "300     0.205\n",
       "350     0.000\n",
       "400     0.209\n",
       "500     0.000\n",
       "600     0.213\n",
       "700     0.226\n",
       "800     0.240\n",
       "900     0.269\n",
       "1000    0.000\n",
       "1100    0.353\n",
       "1200    0.393\n",
       "1250    0.000\n",
       "1300    0.392\n",
       "1340    0.000\n",
       "1400    0.390\n",
       "1500    0.000\n",
       "1600    0.000\n",
       "1650    0.000\n",
       "1700    0.000\n",
       "1750    0.814\n",
       "1800    0.000\n",
       "1820    0.000\n",
       "1850    1.263\n",
       "1870    0.000\n",
       "1875    0.000\n",
       "1900    0.000\n",
       "1910    1.777\n",
       "1913    0.000\n",
       "1920    1.912\n",
       "1925    0.000\n",
       "1930    2.092\n",
       "1940    2.307\n",
       "Name: HYDE, dtype: float64"
      ]
     },
     "execution_count": 182,
     "metadata": {},
     "output_type": "execute_result"
    }
   ],
   "source": [
    "hyde = table1.HYDE/1e3\n",
    "hyde = hyde[11:,]\n",
    "hyde.fillna(0)"
   ]
  },
  {
   "cell_type": "code",
   "execution_count": 183,
   "id": "4faba2b0-410c-4d4c-a040-f979368154ea",
   "metadata": {},
   "outputs": [
    {
     "data": {
      "text/plain": [
       "1940"
      ]
     },
     "execution_count": 183,
     "metadata": {},
     "output_type": "execute_result"
    }
   ],
   "source": [
    "t_0 = hyde.index[0]\n",
    "t_end = hyde.index[-1]"
   ]
  },
  {
   "cell_type": "code",
   "execution_count": 184,
   "id": "f657c175-b837-4b36-b27e-523b3cebafe8",
   "metadata": {},
   "outputs": [
    {
     "data": {
      "text/plain": [
       "2.307"
      ]
     },
     "execution_count": 184,
     "metadata": {},
     "output_type": "execute_result"
    }
   ],
   "source": [
    "p_0 = hyde[t_0]\n",
    "p_end = hyde[t_end]"
   ]
  },
  {
   "cell_type": "code",
   "execution_count": 185,
   "id": "f7346ab5-9016-441a-a5c3-fe49838df4f8",
   "metadata": {},
   "outputs": [
    {
     "data": {
      "text/plain": [
       "namespace(t_0=1, t_end=1940, p_0=nan, p_end=2.307, alpha=0.025, beta=-0.0018)"
      ]
     },
     "execution_count": 185,
     "metadata": {},
     "output_type": "execute_result"
    }
   ],
   "source": [
    "system = System(t_0=t_0, \n",
    "                t_end=t_end,\n",
    "                p_0=p_0,\n",
    "                p_end=p_end,\n",
    "                alpha=0.025,\n",
    "                beta=-0.0018)"
   ]
  },
  {
   "cell_type": "code",
   "execution_count": 186,
   "id": "05b86abd-49f5-4cf8-9a25-0adaf6ce43b2",
   "metadata": {},
   "outputs": [],
   "source": [
    "\n",
    "def run_simulation(system, update_func):\n",
    "    \"\"\"Simulate the system using any update function.\n",
    "    \n",
    "    system: System object\n",
    "    update_func: function that computes the population next year\n",
    "    \n",
    "    returns: TimeSeries\n",
    "    \"\"\"\n",
    "    results = TimeSeries()\n",
    "    results[system.t_end] = system.p_end\n",
    "    \n",
    "    for t in linrange(system.t_end, system.t_end):\n",
    "        results[t+1] = update_func(results[t], t, system)\n",
    "        \n",
    "    return results"
   ]
  },
  {
   "cell_type": "code",
   "execution_count": 188,
   "id": "c4aa2dec-69c2-454e-bb59-c8af5d19675e",
   "metadata": {},
   "outputs": [],
   "source": [
    "def update_func(pop, t, system):\n",
    "    \"\"\"Update population based on a quadratic model.\n",
    "    \n",
    "    pop: current population in billions\n",
    "    t: what year it is\n",
    "    system: system object with model parameters\n",
    "    \"\"\"\n",
    "    net_growth = system.alpha * pop + system.beta * pop**2\n",
    "    return pop + net_growth"
   ]
  },
  {
   "cell_type": "code",
   "execution_count": 189,
   "id": "246e9d99-d04b-4b2b-a2de-4a67c9bf5ca5",
   "metadata": {},
   "outputs": [
    {
     "data": {
      "text/plain": [
       "Time\n",
       "1940    2.307000\n",
       "1941    2.355095\n",
       "Name: Quantity, dtype: float64"
      ]
     },
     "execution_count": 189,
     "metadata": {},
     "output_type": "execute_result"
    }
   ],
   "source": [
    "results = run_simulation(system, update_func)"
   ]
  },
  {
   "cell_type": "code",
   "execution_count": 190,
   "id": "995a564d-88bd-410e-b97c-6943c9fd02db",
   "metadata": {},
   "outputs": [
    {
     "data": {
      "text/plain": [
       "[<matplotlib.lines.Line2D at 0x2651eab1690>]"
      ]
     },
     "execution_count": 190,
     "metadata": {},
     "output_type": "execute_result"
    },
    {
     "data": {
      "image/png": "[encoded data removed]",
      "text/plain": [
       "<Figure size 450x300 with 1 Axes>"
      ]
     },
     "metadata": {},
     "output_type": "display_data"
    }
   ],
   "source": [
    "from matplotlib.pyplot import *\n",
    "plot(results, color='gray', label = 'model')"
   ]
  },
  {
   "cell_type": "code",
   "execution_count": 191,
   "id": "058fa23e-b0ab-448b-8751-2d3270712d89",
   "metadata": {},
   "outputs": [],
   "source": [
    "def alpha_func(t):\n",
    "    alpha = intercept + slope * t"
   ]
  },
  {
   "cell_type": "code",
   "execution_count": 192,
   "id": "9f60acf0-e310-4887-9acf-e9f5fc644f9e",
   "metadata": {},
   "outputs": [
    {
     "data": {
      "text/plain": [
       "namespace(t_0=1,\n",
       "          t_end=1940,\n",
       "          p_0=nan,\n",
       "          p_end=2.307,\n",
       "          slope=nan,\n",
       "          intercept=nan,\n",
       "          alpha=0.025,\n",
       "          beta=-0.0018,\n",
       "          t=1939)"
      ]
     },
     "execution_count": 192,
     "metadata": {},
     "output_type": "execute_result"
    }
   ],
   "source": [
    "t_0 = hyde.index[0]\n",
    "t_end = hyde.index[-1]\n",
    "p_0 = hyde[t_0]\n",
    "p_end = hyde[t_end]\n",
    "slope = (t_end-t_0)-(p_end-p_0)\n",
    "intercept = t_0 - slope * p_0\n",
    "t=t_end-t_0\n",
    "\n",
    "system = System(t_0=t_0, \n",
    "                t_end=t_end,\n",
    "                p_0=p_0,\n",
    "                p_end=p_end,\n",
    "                slope = slope,\n",
    "                intercept = intercept,\n",
    "                alpha=0.025,\n",
    "                beta=-0.0018,\n",
    "                t=t)"
   ]
  },
  {
   "cell_type": "code",
   "execution_count": 193,
   "id": "c6bdbbc4-2c87-4498-9907-d796cd5bc2b4",
   "metadata": {},
   "outputs": [],
   "source": [
    "def update_func_alpha(pop, t, system):\n",
    "    \"\"\"Update population based on a quadratic model.\n",
    "    \n",
    "    pop: current population in billions\n",
    "    t: what year it is\n",
    "    system: system object with model parameters\n",
    "    \"\"\"\n",
    "  \n",
    "    net_growth = system.intercept + system.slope * t\n",
    "    return pop + net_growth"
   ]
  },
  {
   "cell_type": "code",
   "execution_count": 194,
   "id": "646dc909-b623-406d-a254-4daa5e4b34d7",
   "metadata": {},
   "outputs": [
    {
     "data": {
      "text/plain": [
       "[<matplotlib.lines.Line2D at 0x2651eba9790>]"
      ]
     },
     "execution_count": 194,
     "metadata": {},
     "output_type": "execute_result"
    },
    {
     "data": {
      "image/png": "[encoded data removed]",
      "text/plain": [
       "<Figure size 450x300 with 1 Axes>"
      ]
     },
     "metadata": {},
     "output_type": "display_data"
    }
   ],
   "source": [
    "results = run_simulation(system, update_func_alpha)\n",
    "plot(results, color='blue', label = 'model')"
   ]
  }
 ],
 "metadata": {
  "kernelspec": {
   "display_name": "Python 3 (ipykernel)",
   "language": "python",
   "name": "python3"
  },
  "language_info": {
   "codemirror_mode": {
    "name": "ipython",
    "version": 3
   },
   "file_extension": ".py",
   "mimetype": "text/x-python",
   "name": "python",
   "nbconvert_exporter": "python",
   "pygments_lexer": "ipython3",
   "version": "3.11.7"
  }
 },
 "nbformat": 4,
 "nbformat_minor": 5
}
