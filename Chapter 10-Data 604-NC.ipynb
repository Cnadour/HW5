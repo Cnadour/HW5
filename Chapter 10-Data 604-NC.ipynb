{
 "cells": [
  {
   "cell_type": "code",
   "execution_count": 32,
   "id": "f63fb70a-d242-46ce-9d4e-58a65b7277a4",
   "metadata": {},
   "outputs": [],
   "source": [
    "# Configure Jupyter so figures appear in the notebook\n",
    "%matplotlib inline\n",
    "\n",
    "# Configure Jupyter to display the assigned value after an assignment\n",
    "%config InteractiveShell.ast_node_interactivity='last_expr_or_assign'\n",
    "\n",
    "# import functions from the modsim.py module\n",
    "from modsim import *"
   ]
  },
  {
   "cell_type": "code",
   "execution_count": 33,
   "id": "a9e81fec-d84b-4d1d-9c53-425cc581fa1d",
   "metadata": {},
   "outputs": [],
   "source": [
    "def plot_results(census, un, timeseries, title):\n",
    "    \"\"\"Plot the estimates and the model.\n",
    "    \n",
    "    census: TimeSeries of population estimates\n",
    "    un: TimeSeries of population estimates\n",
    "    timeseries: TimeSeries of simulation results\n",
    "    title: string\n",
    "    \"\"\"\n",
    "    plot(census, ':', label='US Census')\n",
    "    plot(un, '--', label='UN DESA')\n",
    "    plot(timeseries, color='gray', label='model')\n",
    "    \n",
    "    decorate(xlabel='Year', \n",
    "             ylabel='World population (billion)',\n",
    "             title=title)"
   ]
  },
  {
   "cell_type": "code",
   "execution_count": 34,
   "id": "8e1b0614-6e83-4b53-97c0-d1757a1437a4",
   "metadata": {},
   "outputs": [],
   "source": [
    "def run_simulation(system, update_func):\n",
    "    \"\"\"Simulate the system using any update function.\n",
    "    \n",
    "    system: System object\n",
    "    update_func: function that computes the population next year\n",
    "    \n",
    "    returns: TimeSeries\n",
    "    \"\"\"\n",
    "    results = TimeSeries()\n",
    "    results[system.t_0] = system.p_0\n",
    "    \n",
    "    for t in linrange(system.t_0, system.t_end):\n",
    "        results[t+1] = update_func(results[t], t, system)\n",
    "        \n",
    "    return results"
   ]
  },
  {
   "cell_type": "code",
   "execution_count": 35,
   "id": "899c787a-8c45-4d7f-881d-a350fb40c73b",
   "metadata": {},
   "outputs": [],
   "source": [
    "def read_table2(filename = 'data/World_population_estimates.html'):\n",
    "    tables = pd.read_html(filename, header=0, index_col=0, decimal='M')\n",
    "    table2 = tables[2]\n",
    "    table2.columns = ['census', 'prb', 'un', 'maddison', \n",
    "                  'hyde', 'tanton', 'biraben', 'mj', \n",
    "                  'thomlinson', 'durand', 'clark']\n",
    "    return table2"
   ]
  },
  {
   "cell_type": "code",
   "execution_count": 36,
   "id": "9e607a8d-6240-47a0-83d0-ea8f595acba9",
   "metadata": {},
   "outputs": [
    {
     "data": {
      "text/plain": [
       "(67, 12)"
      ]
     },
     "execution_count": 36,
     "metadata": {},
     "output_type": "execute_result"
    }
   ],
   "source": [
    "table2.shape"
   ]
  },
  {
   "cell_type": "code",
   "execution_count": 37,
   "id": "75baec2b-c5a5-4c1d-98a4-2e323937530c",
   "metadata": {},
   "outputs": [
    {
     "data": {
      "text/plain": [
       "(67,)"
      ]
     },
     "execution_count": 37,
     "metadata": {},
     "output_type": "execute_result"
    }
   ],
   "source": [
    "census = table2.census / 1e9\n",
    "census.shape"
   ]
  },
  {
   "cell_type": "code",
   "execution_count": 38,
   "id": "655d5441-8a8f-4433-8d77-b238d7591210",
   "metadata": {},
   "outputs": [
    {
     "data": {
      "text/plain": [
       "(67,)"
      ]
     },
     "execution_count": 38,
     "metadata": {},
     "output_type": "execute_result"
    }
   ],
   "source": [
    "un = table2.un / 1e9\n",
    "un.shape"
   ]
  },
  {
   "cell_type": "code",
   "execution_count": 39,
   "id": "8ffec87d-9d3e-4c65-b054-8d981aff919f",
   "metadata": {},
   "outputs": [
    {
     "data": {
      "text/plain": [
       "Index([1950, 1951, 1952, 1953, 1954, 1955, 1956, 1957, 1958, 1959, 1960, 1961,\n",
       "       1962, 1963, 1964, 1965, 1966, 1967, 1968, 1969, 1970, 1971, 1972, 1973,\n",
       "       1974, 1975, 1976, 1977, 1978, 1979, 1980, 1981, 1982, 1983, 1984, 1985,\n",
       "       1986, 1987, 1988, 1989, 1990, 1991, 1992, 1993, 1994, 1995, 1996, 1997,\n",
       "       1998, 1999, 2000, 2001, 2002, 2003, 2004, 2005, 2006, 2007, 2008, 2009,\n",
       "       2010, 2011, 2012, 2013, 2014, 2015, 2016],\n",
       "      dtype='int64', name='Year')"
      ]
     },
     "execution_count": 39,
     "metadata": {},
     "output_type": "execute_result"
    }
   ],
   "source": [
    "table2.index"
   ]
  },
  {
   "cell_type": "code",
   "execution_count": 40,
   "id": "471ad884-026b-4adc-b69e-05e17b1e4f3e",
   "metadata": {},
   "outputs": [
    {
     "data": {
      "text/plain": [
       "Index(['Year', 'census', 'prb', 'un', 'maddison', 'hyde', 'tanton', 'biraben',\n",
       "       'mj', 'thomlinson', 'durand', 'clark'],\n",
       "      dtype='object')"
      ]
     },
     "execution_count": 40,
     "metadata": {},
     "output_type": "execute_result"
    }
   ],
   "source": [
    "table2.columns"
   ]
  },
  {
   "cell_type": "code",
   "execution_count": 41,
   "id": "7984e478-f056-4f71-8c24-10bc02b1cc17",
   "metadata": {},
   "outputs": [
    {
     "data": {
      "text/plain": [
       "array([[1950, 2557628654, 2516000000.0, 2525149000.0, 2544000000.0,\n",
       "        2527960000.0, 2400000000.0, 2527000000.0, 2500000000.0,\n",
       "        2400000000.0, nan, 2486000000.0],\n",
       "       [1951, 2594939877, nan, 2572850917.0, 2571663000.0, nan, nan, nan,\n",
       "        nan, nan, nan, nan],\n",
       "       [1952, 2636772306, nan, 2619292068.0, 2617949000.0, nan, nan, nan,\n",
       "        nan, nan, nan, nan],\n",
       "       [1953, 2682053389, nan, 2665865392.0, 2665959000.0, nan, nan, nan,\n",
       "        nan, nan, nan, nan],\n",
       "       [1954, 2730228104, nan, 2713172027.0, 2716927000.0, nan, nan, nan,\n",
       "        nan, nan, nan, nan],\n",
       "       [1955, 2782098943, nan, 2761650981.0, 2769074000.0, nan, nan, nan,\n",
       "        nan, nan, nan, nan],\n",
       "       [1956, 2835299673, nan, 2811572031.0, 2822502000.0, nan, nan, nan,\n",
       "        nan, nan, nan, nan],\n",
       "       [1957, 2891349717, nan, 2863042795.0, 2879934000.0, nan, nan, nan,\n",
       "        nan, nan, nan, nan],\n",
       "       [1958, 2948137248, nan, 2916030167.0, 2939254000.0, nan, nan, nan,\n",
       "        nan, nan, nan, nan],\n",
       "       [1959, 3000716593, nan, 2970395814.0, 2995909000.0, nan, nan, nan,\n",
       "        nan, nan, nan, nan],\n",
       "       [1960, 3043001508, nan, 3026002942.0, 3041507000.0, 3042000000.0,\n",
       "        nan, nan, nan, nan, nan, nan],\n",
       "       [1961, 3083966929, nan, 3082830266.0, 3082161000.0, nan, nan, nan,\n",
       "        nan, nan, nan, nan],\n",
       "       [1962, 3140093217, nan, 3141071531.0, 3135787000.0, nan, nan, nan,\n",
       "        nan, nan, nan, 3036000000.0],\n",
       "       [1963, 3209827882, nan, 3201178277.0, 3201354000.0, nan, nan, nan,\n",
       "        nan, nan, nan, nan],\n",
       "       [1964, 3281201306, nan, 3263738832.0, 3266477000.0, nan, nan, nan,\n",
       "        nan, nan, nan, nan],\n",
       "       [1965, 3350425793, nan, 3329122479.0, 3333138000.0, nan, nan, nan,\n",
       "        nan, nan, nan, nan],\n",
       "       [1966, 3420677923, nan, 3397475247.0, 3402224000.0, nan, nan, nan,\n",
       "        nan, nan, nan, 3288000000.0],\n",
       "       [1967, 3490333715, nan, 3468521724.0, 3471464000.0, nan, nan, nan,\n",
       "        nan, nan, nan, nan],\n",
       "       [1968, 3562313822, nan, 3541674891.0, 3543086000.0, nan, nan, nan,\n",
       "        nan, nan, nan, nan],\n",
       "       [1969, 3637159050, nan, 3616108749.0, 3615743000.0, nan, nan, nan,\n",
       "        nan, nan, nan, nan],\n",
       "       [1970, 3712697742, nan, 3691172616.0, 3691157000.0, 3710000000.0,\n",
       "        nan, 3637000000.0, nan, 3600000000.0,\n",
       "        '3,600,000,000– 3,700,000,000', 3632000000.0],\n",
       "       [1971, 3790326948, nan, 3766754345.0, 3769818000.0, nan, nan, nan,\n",
       "        nan, nan, nan, nan],\n",
       "       [1972, 3866568653, nan, 3842873611.0, 3846499000.0, nan, nan, nan,\n",
       "        nan, nan, nan, nan],\n",
       "       [1973, 3942096442, nan, 3919182332.0, 3922793000.0, 3923000000.0,\n",
       "        nan, nan, nan, nan, nan, 3860000000.0],\n",
       "       [1974, 4016608813, nan, 3995304922.0, 3997677000.0, nan, nan, nan,\n",
       "        nan, nan, nan, nan],\n",
       "       [1975, 4089083233, nan, 4071020434.0, 4070671000.0, nan, nan, nan,\n",
       "        3900000000.0, 4000000000.0, nan, nan],\n",
       "       [1976, 4160185010, nan, 4146135850.0, 4141445000.0, nan, nan, nan,\n",
       "        nan, nan, nan, nan],\n",
       "       [1977, 4232084578, nan, 4220816737.0, 4213539000.0, nan, nan, nan,\n",
       "        nan, nan, nan, nan],\n",
       "       [1978, 4304105753, nan, 4295664825.0, 4286317000.0, nan, nan, nan,\n",
       "        nan, nan, nan, nan],\n",
       "       [1979, 4379013942, nan, 4371527871.0, 4363144000.0, nan, nan, nan,\n",
       "        nan, nan, nan, nan],\n",
       "       [1980, 4451362735, nan, 4449048798.0, 4439529000.0, 4461000000.0,\n",
       "        nan, nan, nan, nan, nan, nan],\n",
       "       [1981, 4534410125, nan, 4528234634.0, 4514838000.0, nan, nan, nan,\n",
       "        nan, nan, nan, nan],\n",
       "       [1982, 4614566561, nan, 4608962418.0, 4587307000.0, nan, nan, nan,\n",
       "        nan, nan, nan, nan],\n",
       "       [1983, 4695736743, nan, 4691559840.0, 4676388000.0, nan, nan, nan,\n",
       "        nan, nan, nan, nan],\n",
       "       [1984, 4774569391, nan, 4776392828.0, 4756521000.0, nan, nan, nan,\n",
       "        nan, nan, nan, nan],\n",
       "       [1985, 4856462699, nan, 4863601517.0, 4837719000.0, nan,\n",
       "        5000000000.0, nan, nan, nan, nan, nan],\n",
       "       [1986, 4940571232, nan, 4953376710.0, 4920968000.0, nan, nan, nan,\n",
       "        nan, nan, nan, nan],\n",
       "       [1987, 5027200492, nan, 5045315871.0, 5006672000.0, nan, nan, nan,\n",
       "        nan, nan, nan, nan],\n",
       "       [1988, 5114557167, nan, 5138214688.0, 5093306000.0, nan, nan, nan,\n",
       "        nan, nan, nan, nan],\n",
       "       [1989, 5201440110, nan, 5230000000.0, 5180540000.0, nan, nan, nan,\n",
       "        nan, nan, nan, nan],\n",
       "       [1990, 5288955934, nan, 5320816667.0, 5269029000.0, 5308000000.0,\n",
       "        nan, nan, nan, nan, nan, nan],\n",
       "       [1991, 5371585922, nan, 5408908724.0, 5351922000.0, nan, nan, nan,\n",
       "        nan, nan, nan, nan],\n",
       "       [1992, 5456136278, nan, 5494899570.0, 5435722000.0, nan, nan, nan,\n",
       "        nan, nan, nan, nan],\n",
       "       [1993, 5538268316, nan, 5578865109.0, 5518127000.0, nan, nan, nan,\n",
       "        nan, nan, nan, nan],\n",
       "       [1994, 5618682132, nan, 5661086346.0, 5599396000.0, nan, nan, nan,\n",
       "        nan, nan, nan, nan],\n",
       "       [1995, 5699202985, 5760000000.0, 5741822412.0, 5681575000.0, nan,\n",
       "        nan, nan, nan, nan, nan, nan],\n",
       "       [1996, 5779440593, nan, 5821016750.0, 5762212000.0, nan, nan, nan,\n",
       "        nan, nan, nan, nan],\n",
       "       [1997, 5857972543, 5840000000.0, 5898688337.0, 5842122000.0, nan,\n",
       "        nan, nan, nan, nan, nan, nan],\n",
       "       [1998, 5935213248, nan, 5975303657.0, 5921366000.0, nan, nan, nan,\n",
       "        nan, nan, nan, nan],\n",
       "       [1999, 6012074922, nan, 6051478010.0, 5999622000.0, nan, nan, nan,\n",
       "        nan, nan, nan, nan],\n",
       "       [2000, 6088571383, 6067000000.0, 6127700428.0, 6076558000.0,\n",
       "        6145000000.0, nan, nan, 5750000000.0, nan, nan, nan],\n",
       "       [2001, 6165219247, 6137000000.0, 6204147026.0, 6154791000.0, nan,\n",
       "        nan, nan, nan, nan, nan, nan],\n",
       "       [2002, 6242016348, 6215000000.0, 6280853817.0, 6231704000.0, nan,\n",
       "        nan, nan, nan, nan, nan, nan],\n",
       "       [2003, 6318590956, 6314000000.0, 6357991749.0, 6308364000.0, nan,\n",
       "        nan, nan, nan, nan, nan, nan],\n",
       "       [2004, 6395699509, 6396000000.0, 6435705595.0, 6374056000.0, nan,\n",
       "        nan, nan, nan, nan, nan, nan],\n",
       "       [2005, 6473044732, 6477000000.0, 6514094605.0, 6462987000.0, nan,\n",
       "        nan, nan, nan, nan, nan, nan],\n",
       "       [2006, 6551263534, 6555000000.0, 6593227977.0, 6540214000.0, nan,\n",
       "        nan, nan, nan, nan, nan, nan],\n",
       "       [2007, 6629913759, 6625000000.0, 6673105937.0, 6616689000.0, nan,\n",
       "        nan, nan, nan, nan, nan, nan],\n",
       "       [2008, 6709049780, 6705000000.0, 6753649228.0, 6694832000.0, nan,\n",
       "        nan, nan, nan, nan, nan, nan],\n",
       "       [2009, 6788214394, 6809972000.0, 6834721933.0, 6764086000.0, nan,\n",
       "        nan, nan, nan, nan, nan, nan],\n",
       "       [2010, 6858584755, 6892319000.0, 6916183482.0, nan, nan, nan, nan,\n",
       "        nan, nan, nan, nan],\n",
       "       [2011, 6935999491, 6986951000.0, 6997998760.0, nan, nan, nan, nan,\n",
       "        nan, nan, nan, nan],\n",
       "       [2012, 7013871313, 7057075000.0, 7080072417.0, nan, nan, nan, nan,\n",
       "        nan, nan, nan, nan],\n",
       "       [2013, 7092128094, 7136796000.0, 7162119434.0, nan, nan, nan, nan,\n",
       "        nan, nan, nan, nan],\n",
       "       [2014, 7169968185, 7238184000.0, 7243784000.0, nan, nan, nan, nan,\n",
       "        nan, nan, nan, nan],\n",
       "       [2015, 7247892788, 7336435000.0, 7349472000.0, nan, nan, nan, nan,\n",
       "        nan, nan, nan, nan],\n",
       "       [2016, 7325996709, 7418151841.0, nan, nan, nan, nan, nan, nan,\n",
       "        nan, nan, nan]], dtype=object)"
      ]
     },
     "execution_count": 41,
     "metadata": {},
     "output_type": "execute_result"
    }
   ],
   "source": [
    "table2.values"
   ]
  },
  {
   "cell_type": "code",
   "execution_count": 42,
   "id": "03707816-5764-4329-ac34-6335170c040b",
   "metadata": {},
   "outputs": [
    {
     "data": {
      "text/plain": [
       "'census'"
      ]
     },
     "execution_count": 42,
     "metadata": {},
     "output_type": "execute_result"
    }
   ],
   "source": [
    "census.name"
   ]
  },
  {
   "cell_type": "code",
   "execution_count": 43,
   "id": "11685bc3-16b6-4029-a71d-02108eb88594",
   "metadata": {},
   "outputs": [
    {
     "data": {
      "text/plain": [
       "array([2.55762865, 2.59493988, 2.63677231, 2.68205339, 2.7302281 ,\n",
       "       2.78209894, 2.83529967, 2.89134972, 2.94813725, 3.00071659,\n",
       "       3.04300151, 3.08396693, 3.14009322, 3.20982788, 3.28120131,\n",
       "       3.35042579, 3.42067792, 3.49033371, 3.56231382, 3.63715905,\n",
       "       3.71269774, 3.79032695, 3.86656865, 3.94209644, 4.01660881,\n",
       "       4.08908323, 4.16018501, 4.23208458, 4.30410575, 4.37901394,\n",
       "       4.45136274, 4.53441012, 4.61456656, 4.69573674, 4.77456939,\n",
       "       4.8564627 , 4.94057123, 5.02720049, 5.11455717, 5.20144011,\n",
       "       5.28895593, 5.37158592, 5.45613628, 5.53826832, 5.61868213,\n",
       "       5.69920299, 5.77944059, 5.85797254, 5.93521325, 6.01207492,\n",
       "       6.08857138, 6.16521925, 6.24201635, 6.31859096, 6.39569951,\n",
       "       6.47304473, 6.55126353, 6.62991376, 6.70904978, 6.78821439,\n",
       "       6.85858475, 6.93599949, 7.01387131, 7.09212809, 7.16996819,\n",
       "       7.24789279, 7.32599671])"
      ]
     },
     "execution_count": 43,
     "metadata": {},
     "output_type": "execute_result"
    }
   ],
   "source": [
    "census.values"
   ]
  },
  {
   "cell_type": "code",
   "execution_count": 44,
   "id": "999d6fa9-37ab-494f-ae06-d80b8c751b34",
   "metadata": {},
   "outputs": [
    {
     "data": {
      "text/plain": [
       "Index([1950, 1951, 1952, 1953, 1954, 1955, 1956, 1957, 1958, 1959, 1960, 1961,\n",
       "       1962, 1963, 1964, 1965, 1966, 1967, 1968, 1969, 1970, 1971, 1972, 1973,\n",
       "       1974, 1975, 1976, 1977, 1978, 1979, 1980, 1981, 1982, 1983, 1984, 1985,\n",
       "       1986, 1987, 1988, 1989, 1990, 1991, 1992, 1993, 1994, 1995, 1996, 1997,\n",
       "       1998, 1999, 2000, 2001, 2002, 2003, 2004, 2005, 2006, 2007, 2008, 2009,\n",
       "       2010, 2011, 2012, 2013, 2014, 2015, 2016],\n",
       "      dtype='int64', name='Year')"
      ]
     },
     "execution_count": 44,
     "metadata": {},
     "output_type": "execute_result"
    }
   ],
   "source": [
    "census.index"
   ]
  },
  {
   "cell_type": "code",
   "execution_count": 45,
   "id": "0de7b4dd-4291-45d0-8b07-fe05f951f187",
   "metadata": {},
   "outputs": [
    {
     "data": {
      "text/plain": [
       "pandas.core.frame.DataFrame"
      ]
     },
     "execution_count": 45,
     "metadata": {},
     "output_type": "execute_result"
    }
   ],
   "source": [
    "type(table2)"
   ]
  },
  {
   "cell_type": "code",
   "execution_count": 46,
   "id": "f0d1577c-4e88-4b10-9f49-70e0b689fef1",
   "metadata": {},
   "outputs": [
    {
     "data": {
      "text/plain": [
       "pandas.core.indexes.base.Index"
      ]
     },
     "execution_count": 46,
     "metadata": {},
     "output_type": "execute_result"
    }
   ],
   "source": [
    "type(table2.index)"
   ]
  },
  {
   "cell_type": "code",
   "execution_count": 47,
   "id": "4a40ad60-697c-402a-9707-269dd20708ee",
   "metadata": {},
   "outputs": [
    {
     "data": {
      "text/plain": [
       "pandas.core.indexes.base.Index"
      ]
     },
     "execution_count": 47,
     "metadata": {},
     "output_type": "execute_result"
    }
   ],
   "source": [
    "type(table2.columns)"
   ]
  },
  {
   "cell_type": "code",
   "execution_count": 48,
   "id": "d2c024ec-79fb-4c16-9afc-f29aeaa12169",
   "metadata": {},
   "outputs": [
    {
     "data": {
      "text/plain": [
       "numpy.ndarray"
      ]
     },
     "execution_count": 48,
     "metadata": {},
     "output_type": "execute_result"
    }
   ],
   "source": [
    "type(table2.values)"
   ]
  },
  {
   "cell_type": "code",
   "execution_count": 49,
   "id": "7250b54b-dcfe-4fa1-ab50-b80a565d2fa6",
   "metadata": {},
   "outputs": [
    {
     "data": {
      "text/plain": [
       "pandas.core.series.Series"
      ]
     },
     "execution_count": 49,
     "metadata": {},
     "output_type": "execute_result"
    }
   ],
   "source": [
    "type(census)"
   ]
  },
  {
   "cell_type": "code",
   "execution_count": 50,
   "id": "caa4dce1-966f-4411-b001-d53800ad274a",
   "metadata": {},
   "outputs": [
    {
     "data": {
      "text/plain": [
       "pandas.core.indexes.base.Index"
      ]
     },
     "execution_count": 50,
     "metadata": {},
     "output_type": "execute_result"
    }
   ],
   "source": [
    "type(census.index)"
   ]
  },
  {
   "cell_type": "code",
   "execution_count": 51,
   "id": "c1ce446c-6fd4-4915-9ff2-91f9045eeb33",
   "metadata": {},
   "outputs": [
    {
     "data": {
      "text/plain": [
       "numpy.ndarray"
      ]
     },
     "execution_count": 51,
     "metadata": {},
     "output_type": "execute_result"
    }
   ],
   "source": [
    "type(census.values)"
   ]
  },
  {
   "cell_type": "code",
   "execution_count": 66,
   "id": "9e706579-4bf9-4a62-9e6f-8e215b69c246",
   "metadata": {},
   "outputs": [
    {
     "data": {
      "text/plain": [
       "(67, 12)"
      ]
     },
     "execution_count": 66,
     "metadata": {},
     "output_type": "execute_result"
    }
   ],
   "source": [
    "table2.shape"
   ]
  }
 ],
 "metadata": {
  "kernelspec": {
   "display_name": "Python 3 (ipykernel)",
   "language": "python",
   "name": "python3"
  },
  "language_info": {
   "codemirror_mode": {
    "name": "ipython",
    "version": 3
   },
   "file_extension": ".py",
   "mimetype": "text/x-python",
   "name": "python",
   "nbconvert_exporter": "python",
   "pygments_lexer": "ipython3",
   "version": "3.11.7"
  }
 },
 "nbformat": 4,
 "nbformat_minor": 5
}
